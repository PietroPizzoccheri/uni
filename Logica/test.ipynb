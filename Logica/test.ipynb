{
 "cells": [
  {
   "cell_type": "code",
   "execution_count": 1,
   "id": "b701a381",
   "metadata": {
    "vscode": {
     "languageId": "sage"
    }
   },
   "outputs": [],
   "source": [
    "X = Set({1,2,3})"
   ]
  },
  {
   "cell_type": "code",
   "execution_count": 3,
   "id": "ccbe6e46",
   "metadata": {
    "vscode": {
     "languageId": "sage"
    }
   },
   "outputs": [],
   "source": [
    "F=cartesian_product([X,X,X])"
   ]
  },
  {
   "cell_type": "code",
   "execution_count": 4,
   "id": "c239670f",
   "metadata": {
    "vscode": {
     "languageId": "sage"
    }
   },
   "outputs": [
    {
     "name": "stdout",
     "output_type": "stream",
     "text": [
      "{(2, 2, 3), (2, 3, 3), (2, 2, 2), (1, 1, 3), (1, 2, 3), (3, 3, 3), (1, 1, 2), (1, 2, 2), (1, 3, 3), (1, 1, 1)}\n"
     ]
    }
   ],
   "source": [
    "M=Set()\n",
    "for f in F:\n",
    "    f=tuple(sorted(list(f)))\n",
    "    M=M+Set({f})\n",
    "print(M)"
   ]
  },
  {
   "cell_type": "code",
   "execution_count": null,
   "id": "206aa3f5",
   "metadata": {
    "vscode": {
     "languageId": "sage"
    }
   },
   "outputs": [],
   "source": [
    "n = 3 \n",
    "\n",
    "M = Set()\n",
    "X = Set()\n",
    "\n",
    "L=[]\n",
    "e=[]\n",
    "\n",
    "for i in range(n):\n",
    "    X = X + Set({i+1})\n",
    "    e.append(i+1)\n",
    "\n",
    "e=tuple(e)\n",
    "\n",
    "for i in range(n):\n",
    "    L.append(X)\n",
    "\n",
    "F = cartesian_product(L)\n",
    "\n",
    "for f in F:\n",
    "    g=tuple(sorted(list(f)))\n",
    "    M=M+Set({g})\n",
    "\n",
    "print(M.cardinality())\n",
    "\n",
    "def comp(a,b):\n",
    "    v=[]\n",
    "    for i in range(len(a)):\n",
    "        v.append(a[b[i]-1])\n",
    "    return tuple(v)\n",
    "    "
   ]
  },
  {
   "cell_type": "code",
   "execution_count": null,
   "id": "b35c3691",
   "metadata": {
    "vscode": {
     "languageId": "sage"
    }
   },
   "outputs": [],
   "source": [
    "for m in M:\n",
    "    for x in M:\n",
    "        if comp(m,x)==e and comp(x,m)==e:\n",
    "            print(m,x)\n",
    "            break"
   ]
  }
 ],
 "metadata": {
  "kernelspec": {
   "display_name": "SageMath 9.5",
   "language": "sage",
   "name": "sagemath"
  },
  "language_info": {
   "codemirror_mode": {
    "name": "ipython",
    "version": 3
   },
   "file_extension": ".py",
   "mimetype": "text/x-python",
   "name": "python",
   "nbconvert_exporter": "python",
   "pygments_lexer": "ipython3",
   "version": "3.10.12"
  }
 },
 "nbformat": 4,
 "nbformat_minor": 5
}
