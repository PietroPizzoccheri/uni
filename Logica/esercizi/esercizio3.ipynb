{
 "cells": [
  {
   "cell_type": "code",
   "execution_count": 18,
   "metadata": {
    "vscode": {
     "languageId": "sage"
    }
   },
   "outputs": [
    {
     "name": "stdout",
     "output_type": "stream",
     "text": [
      "64\n"
     ]
    }
   ],
   "source": [
    "# Una matrice circolante n x n è univocamente determinata dalla prima riga o dalla prima colonna. Ogni componente della prima riga può assumere 4 valori. Quindi ci sono 4^n possibili righe, ossia la cardinalità di Cn(Z4) è 4^n.\n",
    "\n",
    "# Definisco l'anello Z4 usando la funzione Integers(4). Una matrice circolante con riga c (c è una lista) si può costruire usando la funzione matrix.circulant(c) (vedere la documentazione in https://doc.sagemath.org/html/en/reference/matrices/sage/matrix/special.html)\n",
    "# L'insieme C è il prodotto cartesiano Z4^3. La lista MC è la lista degli elementi di C3(Z4).\n",
    "\n",
    "Z4=Integers(4)\n",
    "\n",
    "n=3\n",
    "\n",
    "L=[]\n",
    "\n",
    "for i in range(n):\n",
    "    L.append(Z4)\n",
    "    \n",
    "C=cartesian_product(L)\n",
    "\n",
    "MC=[]\n",
    "\n",
    "for c in C:\n",
    "    c=list(c)\n",
    "    M=matrix.circulant(c)\n",
    "    MC.append(M)\n",
    "    \n",
    "print(len(MC))"
   ]
  },
  {
   "cell_type": "code",
   "execution_count": 19,
   "metadata": {
    "vscode": {
     "languageId": "sage"
    }
   },
   "outputs": [
    {
     "name": "stdout",
     "output_type": "stream",
     "text": [
      "True\n",
      "[0 0 2]\n",
      "[2 0 0]\n",
      "[0 2 0]\n",
      "\n",
      "[0 0 2]\n",
      "[2 0 0]\n",
      "[0 2 0]\n",
      "\n",
      "C3(Z4) non è dominio di integrità\n",
      "24\n"
     ]
    }
   ],
   "source": [
    "# Verifico che C3(Z4) è un anello commutativo con unità (l'unità è la matrice identità 3 x 3).\n",
    "\n",
    "u=0\n",
    "\n",
    "print(identity_matrix(Z4, 3) in MC)\n",
    "\n",
    "for a in MC:\n",
    "    for b in MC:\n",
    "        if a+b not in MC or -a not in MC:\n",
    "            print(a,b, \"con l'addizione non è gruppo\")\n",
    "            u=1\n",
    "            break\n",
    "        if a*b not in MC:\n",
    "            print(a,b, 'con la moltiplicazione non è monoide')\n",
    "            u=1\n",
    "            break\n",
    "        if a*b!=b*a:\n",
    "            print(a,b, 'non è commutativo')\n",
    "            u=1\n",
    "            break\n",
    "    if u==1:\n",
    "        break\n",
    "        \n",
    "# Cerchiamo zero-divisori in C3(Z4)\n",
    "\n",
    "u=0\n",
    "for a in MC:\n",
    "    for b in MC:\n",
    "        if b!=zero_matrix(Z4, 3) and a!=zero_matrix(Z4, 3):\n",
    "            if a*b==zero_matrix(Z4, 3):\n",
    "                u=1\n",
    "                break\n",
    "    if u==1:\n",
    "        print(a)\n",
    "        print('')\n",
    "        print(b)\n",
    "        print('')\n",
    "        print('C3(Z4) non è dominio di integrità')\n",
    "        break\n",
    "\n",
    "\n",
    "# Cerchiamo gli elementi inversibili in C3(Z4). Una matrice M a componenti in Z4 è invertibile se e solo se il suo determinante è un elemento invertibile di Z4, ossia se e solo se det(M) in {1,3}.\n",
    "\n",
    "I=[]\n",
    "\n",
    "for m in MC:\n",
    "    if det(m) in Set({1,3}):\n",
    "        I.append(m)\n",
    "        \n",
    "print(len(I))\n"
   ]
  },
  {
   "cell_type": "code",
   "execution_count": 20,
   "metadata": {
    "vscode": {
     "languageId": "sage"
    }
   },
   "outputs": [],
   "source": [
    "\n",
    "# Per lavorare con insieme di matrici e ovviare i problemi di mutevolezza, mi conviene lavorare con i numeri da 0 a 63 (cioè le posizioni degli elementi di C3(Z4) nella lista MC).\n",
    "\n",
    "def pos(x, L):                    # La funzione che mi associa a un elemento x della lista L la sua posizione nella lista.                       \n",
    "    for i in range(len(L)):\n",
    "        if x==L[i]:\n",
    "            return i\n",
    "\n",
    "def somma(x,y):\n",
    "    return pos(MC[x]+MC[y],MC)\n",
    "\n",
    "def prod(x,y):\n",
    "    return pos(MC[x]*MC[y],MC)\n",
    "\n",
    "def inverso(x):\n",
    "    return pos(-MC[x],MC)\n",
    "\n"
   ]
  },
  {
   "cell_type": "code",
   "execution_count": 21,
   "metadata": {
    "vscode": {
     "languageId": "sage"
    }
   },
   "outputs": [],
   "source": [
    "# Definisco una funzione che mi dice se un sottoinsieme di {0,1, … ,63} è un ideale.\n",
    "\n",
    "\n",
    "def ideale(X):\n",
    "    u=0\n",
    "    for a in X:\n",
    "        if inverso(a) not in X:\n",
    "            u=1\n",
    "            break\n",
    "    for a in X:\n",
    "        for b in X:\n",
    "            if somma(a,b) not in X:\n",
    "                u=1\n",
    "                break\n",
    "        if u==1:\n",
    "            break\n",
    "    for a in C3:\n",
    "        for b in X:\n",
    "            if prod(a,b) not in X:\n",
    "                u=1\n",
    "                break\n",
    "    if u==1:\n",
    "        return False\n",
    "    else:\n",
    "        return True"
   ]
  },
  {
   "cell_type": "code",
   "execution_count": 22,
   "metadata": {
    "vscode": {
     "languageId": "sage"
    }
   },
   "outputs": [
    {
     "name": "stdout",
     "output_type": "stream",
     "text": [
      "39711\n",
      "39711\n",
      "5000\n",
      "10000\n",
      "15000\n",
      "20000\n",
      "25000\n",
      "30000\n",
      "35000\n",
      "2\n"
     ]
    }
   ],
   "source": [
    "# La posizione della matrice nulla nella lista MC è 0. \n",
    "    \n",
    "C3=Set()                     # C3(Z4) senza la matrice nulla\n",
    "for i in range(63):\n",
    "    C3=C3+Set({i+1})\n",
    "    \n",
    "S=C3.subsets(3)\n",
    "\n",
    "print(S.cardinality())\n",
    "\n",
    "SI=[]\n",
    "\n",
    "for s in S:                           # Prendiamo solo i sottoinsiemi che contengono l'elemento 0.\n",
    "    SI.append(s+Set({0}))\n",
    "        \n",
    "print(len(SI))\n",
    "\n",
    "y=0\n",
    "I4=[]\n",
    "for s in SI:            \n",
    "    y=y+1\n",
    "    if y%5000==0:\n",
    "        print(y)\n",
    "    if ideale(s)==True:\n",
    "        I4.append(s)\n",
    "print(len(I4))\n"
   ]
  },
  {
   "cell_type": "code",
   "execution_count": 23,
   "metadata": {
    "vscode": {
     "languageId": "sage"
    }
   },
   "outputs": [
    {
     "name": "stdout",
     "output_type": "stream",
     "text": [
      "9\n"
     ]
    }
   ],
   "source": [
    "# Cerchiamo gli ideali principali di C3(Z4). Chiamo PI l'insieme degli ideali principali. (Notare che gli ideali di cardinalità 4 trovati prima sono principali).\n",
    "\n",
    "PI=Set()\n",
    "\n",
    "C3=C3+Set({0})\n",
    "\n",
    "for i in C3:\n",
    "    Xi=Set()\n",
    "    for j in C3:\n",
    "        Xi=Xi+Set({prod(i,j)})\n",
    "    PI=PI+Set({Xi})\n",
    "    \n",
    "print(PI.cardinality())\n",
    "\n"
   ]
  },
  {
   "cell_type": "code",
   "execution_count": 24,
   "metadata": {
    "vscode": {
     "languageId": "sage"
    }
   },
   "outputs": [
    {
     "name": "stdout",
     "output_type": "stream",
     "text": [
      "16\n"
     ]
    }
   ],
   "source": [
    "# Costruiamo l'ideale I.\n",
    "\n",
    "M1 = matrix([[1,3,3],[3,1,3],[3,3,1]])\n",
    "M2 = matrix([[0,0,2],[2,0,0],[0,2,0]])\n",
    "\n",
    "a=pos(M1,MC)\n",
    "b=pos(M2,MC)\n",
    "\n",
    "I=Set()\n",
    "for x in C3:\n",
    "    for y in C3:\n",
    "        z=somma(prod(x,a),prod(y,b))\n",
    "        I=I+Set({z})\n",
    "\n",
    "print(I.cardinality())\n"
   ]
  },
  {
   "cell_type": "code",
   "execution_count": 25,
   "metadata": {
    "vscode": {
     "languageId": "sage"
    }
   },
   "outputs": [
    {
     "name": "stdout",
     "output_type": "stream",
     "text": [
      "32\n",
      "8\n"
     ]
    }
   ],
   "source": [
    "# Costruiamo l'ideale J.\n",
    "\n",
    "N1=matrix([[1,0,1],[1,1,0],[0,1,1]])\n",
    "N2=matrix([[2,2,2],[2,2,2],[2,2,2]])\n",
    "\n",
    "a=pos(N1,MC)\n",
    "b=pos(N2,MC)\n",
    "\n",
    "J=Set()\n",
    "for x in C3:\n",
    "    for y in C3:\n",
    "        z=somma(prod(x,a),prod(y,b))\n",
    "        J=J+Set({z})\n",
    "print(J.cardinality())\n",
    "\n",
    "print((I.intersection(J)).cardinality())\n"
   ]
  },
  {
   "cell_type": "code",
   "execution_count": 26,
   "metadata": {
    "vscode": {
     "languageId": "sage"
    }
   },
   "outputs": [
    {
     "name": "stdout",
     "output_type": "stream",
     "text": [
      "4\n"
     ]
    }
   ],
   "source": [
    "# Costruiamo il quoziente C3(Z4)/I\n",
    "\n",
    "QI=Set()\n",
    "\n",
    "for x in C3:\n",
    "    Cx=Set()\n",
    "    for i in I:\n",
    "        Cx=Cx+Set({somma(x,i)})\n",
    "    QI=QI+Set({Cx})\n",
    "    \n",
    "print(QI.cardinality())\n"
   ]
  },
  {
   "cell_type": "code",
   "execution_count": 27,
   "metadata": {
    "vscode": {
     "languageId": "sage"
    }
   },
   "outputs": [
    {
     "name": "stdout",
     "output_type": "stream",
     "text": [
      "2\n"
     ]
    }
   ],
   "source": [
    "# Costruiamo il quoziente C3(Z4)/J\n",
    "\n",
    "QJ=Set()\n",
    "\n",
    "for x in C3:\n",
    "    Cx=Set()\n",
    "    for i in J:\n",
    "        Cx=Cx+Set({somma(x,i)})\n",
    "    QJ=QJ+Set({Cx})\n",
    "    \n",
    "print(QJ.cardinality())\n",
    "\n"
   ]
  }
 ],
 "metadata": {
  "kernelspec": {
   "display_name": "SageMath 9.5",
   "language": "sage",
   "name": "sagemath"
  },
  "language_info": {
   "codemirror_mode": {
    "name": "ipython",
    "version": 3
   },
   "file_extension": ".py",
   "mimetype": "text/x-python",
   "name": "python",
   "nbconvert_exporter": "python",
   "pygments_lexer": "ipython3",
   "version": "3.10.12"
  }
 },
 "nbformat": 4,
 "nbformat_minor": 2
}
