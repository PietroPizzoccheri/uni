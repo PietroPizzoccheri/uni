{
 "cells": [
  {
   "cell_type": "code",
   "execution_count": 3,
   "metadata": {},
   "outputs": [
    {
     "name": "stdout",
     "output_type": "stream",
     "text": [
      "(0, 0) (0, 0)\n",
      "(0, 1) (0, 2)\n",
      "(0, 2) (0, 0)\n",
      "(0, 3) (0, 2)\n",
      "(1, 0) (2, 0)\n",
      "(1, 1) (2, 2)\n",
      "(1, 2) (2, 0)\n",
      "(1, 3) (2, 2)\n",
      "(2, 0) (0, 0)\n",
      "(2, 1) (0, 2)\n",
      "(2, 2) (0, 0)\n",
      "(2, 3) (0, 2)\n",
      "(3, 0) (2, 0)\n",
      "(3, 1) (2, 2)\n",
      "(3, 2) (2, 0)\n",
      "(3, 3) (2, 2)\n"
     ]
    }
   ],
   "source": [
    "Z4 = AdditiveAbelianGroup([4])\n",
    "\n",
    "G  = AdditiveAbelianGroup([4,4])\n",
    "\n",
    "for z in G:\n",
    "    print(z , z+z)"
   ]
  },
  {
   "cell_type": "code",
   "execution_count": null,
   "metadata": {},
   "outputs": [],
   "source": [
    "GL = sorted(list(Set(G)))"
   ]
  },
  {
   "cell_type": "code",
   "execution_count": null,
   "metadata": {},
   "outputs": [],
   "source": [
    "def pos(m , M):\n",
    "for i in range(len(M)):\n",
    "    if M[i] == m:\n",
    "        return i"
   ]
  },
  {
   "cell_type": "code",
   "execution_count": null,
   "metadata": {},
   "outputs": [],
   "source": [
    "PG = Set()\n",
    "for i in range(len(GL)):\n",
    "    vi=[]\n",
    "    for j in range(len(GL)):\n",
    "        a=GL[i]+GL[j]\n",
    "        vi.append(pos(a,GL)+1)\n",
    "    PG.append(vi)\n",
    "print(PG.cardinality())\n",
    "\n",
    "for g in PG:\n",
    "    print(g)"
   ]
  },
  {
   "cell_type": "code",
   "execution_count": null,
   "metadata": {},
   "outputs": [],
   "source": [
    "def gruppo(X)\n",
    "    u=0\n",
    "    for a in X:\n",
    "        if -a not in X:\n",
    "            u=1\n",
    "            break\n",
    "    for a in X:\n",
    "        for b in X:\n",
    "            if a+b not in X:\n",
    "                u=1\n",
    "                break\n",
    "        if u==1:\n",
    "            break\n",
    "    if u==1:\n",
    "        return False\n",
    "    else:\n",
    "        return True"
   ]
  },
  {
   "cell_type": "code",
   "execution_count": null,
   "metadata": {},
   "outputs": [],
   "source": []
  }
 ],
 "metadata": {
  "kernelspec": {
   "display_name": "SageMath 9.5",
   "language": "sage",
   "name": "sagemath"
  },
  "language_info": {
   "codemirror_mode": {
    "name": "ipython",
    "version": 3
   },
   "file_extension": ".py",
   "mimetype": "text/x-python",
   "name": "sage",
   "nbconvert_exporter": "python",
   "pygments_lexer": "ipython3",
   "version": "3.10.12"
  }
 },
 "nbformat": 4,
 "nbformat_minor": 2
}
