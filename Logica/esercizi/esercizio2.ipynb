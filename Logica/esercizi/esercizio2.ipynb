{
 "cells": [
  {
   "cell_type": "code",
   "execution_count": 8,
   "metadata": {
    "vscode": {
     "languageId": "sage"
    }
   },
   "outputs": [
    {
     "name": "stdout",
     "output_type": "stream",
     "text": [
      "True\n"
     ]
    }
   ],
   "source": [
    "# Usiamo le librerie https://doc.sagemath.org/html/en/reference/groups/sage/groups/additive_abelian/additive_abelian_group.html per implementare il gruppo G. In generale il prodotto diretto di Za1 x Za2 x … x Zan è AdditiveAbelianGroup([a1,a2,...,an]). Il gruppo dei numeri interi Z è AdditiveAbelianGroup([0]). \n",
    "\n",
    "G=AdditiveAbelianGroup([4,4])\n",
    "\n",
    "# Le operazion in in G si fanno nel modo seguente: se vogliamo fare (a,b)+(c,d) in G, dobbiamo scrivere G(vector([a,b]))+G(vector([c,d]))\n",
    "\n",
    "# Costruiamo adesso le matrici di permutazione che rappresentano G.\n",
    "\n",
    "def pos(x, L):                    # La funzione che mi associa a un elemento x della lista L la sua posizione nella lista.                       \n",
    "    for i in range(len(L)):\n",
    "        if x==L[i]:\n",
    "            return i\n",
    "\n",
    "GL=list(G)\n",
    "\n",
    "def AA(x):\n",
    "    A=[]\n",
    "    for j in range(len(GL)):\n",
    "        Aj=[]\n",
    "        z=x+GL[j]\n",
    "        y=pos(z,GL)\n",
    "        for k in range(len(GL)):\n",
    "            if k==y:\n",
    "                Aj.append(1)\n",
    "            else:\n",
    "                Aj.append(0)\n",
    "        A.append(Aj)\n",
    "    A=matrix(A) # abbiamo costruito la matrice trasposta della matrice che vogliamo.\n",
    "    A=A.transpose() # trasponiamo la matrice.\n",
    "    return A\n",
    "\n",
    "\n",
    "AG=Set()\n",
    "\n",
    "for x in G:\n",
    "    A=AA(x)\n",
    "    A.set_immutable()\n",
    "    AG=AG+Set({A})\n",
    "print(len(GL)==AG.cardinality())\n"
   ]
  },
  {
   "cell_type": "code",
   "execution_count": 9,
   "metadata": {
    "vscode": {
     "languageId": "sage"
    }
   },
   "outputs": [],
   "source": [
    "# Verifichiamo che il determinante delle matrici che rappresentano gli elementi di G è sempre 1 o -1\n",
    "\n",
    "for a in AG:\n",
    "    if det(a) not in Set({-1,1}):\n",
    "        print(a)\n"
   ]
  },
  {
   "cell_type": "code",
   "execution_count": 10,
   "metadata": {
    "vscode": {
     "languageId": "sage"
    }
   },
   "outputs": [
    {
     "name": "stdout",
     "output_type": "stream",
     "text": [
      "AG e G sono isomorfi come gruppi\n"
     ]
    }
   ],
   "source": [
    "# Mostriamo che l'insieme AG con l'operazione righe per colonne è isomorfo a G. Abbiamo già visto che hanno uguale cardinalità, cioè g --> A(g) definisce una biiezione tra G e AG. Mostriamo che g --> A(g) è un morfismo di gruppi.\n",
    "\n",
    "u=0\n",
    "for x in G:\n",
    "    for y in G:\n",
    "        xy=x+y\n",
    "        if AA(x+y)!=AA(x)*AA(y):\n",
    "            print(x,y)\n",
    "            u=1\n",
    "            break\n",
    "if u==0:\n",
    "    print('AG e G sono isomorfi come gruppi') \n"
   ]
  },
  {
   "cell_type": "code",
   "execution_count": 11,
   "metadata": {
    "vscode": {
     "languageId": "sage"
    }
   },
   "outputs": [
    {
     "name": "stdout",
     "output_type": "stream",
     "text": [
      "True\n"
     ]
    }
   ],
   "source": [
    "\n",
    "# Adesso costruiamo un gruppo di permutazioni isomorfo a G. Lavoriamo nell'ambiente Permutations https://doc.sagemath.org/html/en/reference/combinat/sage/combinat/permutation.html\n",
    "\n",
    "def perm(g):\n",
    "    pg=[]\n",
    "    for h in G:\n",
    "        z=pos(g+h,GL)\n",
    "        pg.append(z+1)       # scrivo z+1 perché vogliamo numeri tra 1 e 16.\n",
    "    return Permutation(pg)\n",
    "    \n",
    "\n",
    "GP=Set()\n",
    "for g in G:\n",
    "    p=perm(g)\n",
    "    GP=GP+Set({p})\n",
    "print(GP.cardinality()==G.cardinality())\n"
   ]
  },
  {
   "cell_type": "code",
   "execution_count": 12,
   "metadata": {
    "vscode": {
     "languageId": "sage"
    }
   },
   "outputs": [
    {
     "name": "stdout",
     "output_type": "stream",
     "text": [
      "G e GP sono isomorfi come gruppi, dove su GP ho la composizione di funzioni come operazione\n"
     ]
    }
   ],
   "source": [
    "# Dopo aver verificato che la cardinalità di GP è uguale a quella di G, verifico che g --> perm(g) definisce un morfismo di gruppi. Uso la composizione di permutazioni a.right_action_product(b) dell'ambiente Permutations. Abbiamo che a.right_action_product(b) è la permutazione ab, mentre a.left_action_product(b) è la permutazione ba.\n",
    "\n",
    "u=0\n",
    "\n",
    "for g in G:\n",
    "    pg=perm(g)\n",
    "    for h in G:\n",
    "        ph=perm(h)\n",
    "        if perm(g+h)!=pg.right_action_product(ph):  \t\n",
    "            u=1\n",
    "            print(g,h)\n",
    "            break\n",
    "            \n",
    "if u==0:\n",
    "    print('G e GP sono isomorfi come gruppi, dove su GP ho la composizione di funzioni come operazione')\n"
   ]
  },
  {
   "cell_type": "code",
   "execution_count": 13,
   "metadata": {
    "vscode": {
     "languageId": "sage"
    }
   },
   "outputs": [
    {
     "name": "stdout",
     "output_type": "stream",
     "text": [
      "14827\n",
      "6907\n",
      "15\n"
     ]
    }
   ],
   "source": [
    "# Per trovare i sottogruppi di G possiamo fare in due modi. \n",
    "\n",
    "# Primo modo: \n",
    "\n",
    "# definiamo una funzione che mi dice se un sottoinsieme di G è un sottogruppo o no.\n",
    "\n",
    "def gruppo(X):\n",
    "    u=0\n",
    "    for a in X:\n",
    "        if -a not in X:\n",
    "            u=1\n",
    "            break\n",
    "    for a in X:\n",
    "        for b in X:\n",
    "            if a+b not in X:\n",
    "                u=1\n",
    "                break\n",
    "        if u==1:\n",
    "            break\n",
    "    if u==1:\n",
    "        return False\n",
    "    else:\n",
    "        return True\n",
    "    \n",
    "    \n",
    "c=G.cardinality()\n",
    "\n",
    "D=divisors(c)   # consideriamo la lista di divisori del numero c. Queste sono le possibili cardinalità di un sottogruppo.\n",
    "\n",
    "S=Set()\n",
    "\n",
    "for i in D:\n",
    "    S=S+Set(Set(G).subsets(i))\n",
    "    \n",
    "print(S.cardinality())\n",
    "\n",
    "SI=Set()\n",
    "\n",
    "for s in S:                         # Prendiamo solo i sottoinsiemi che contengono l'identità (0,0)\n",
    "    if G(vector([0,0])) in s:\n",
    "        SI=SI+Set({s})\n",
    "print(SI.cardinality())\n",
    "\n",
    "\n",
    "# Creiamo la lista dei sottogruppi di G.\n",
    "\n",
    "SG=[]\n",
    "\n",
    "for s in SI:\n",
    "    if gruppo(s)==True:\n",
    "        SG.append(s)\n",
    "\n",
    "print(len(SG))\n"
   ]
  },
  {
   "cell_type": "code",
   "execution_count": 14,
   "metadata": {
    "vscode": {
     "languageId": "sage"
    }
   },
   "outputs": [
    {
     "name": "stdout",
     "output_type": "stream",
     "text": [
      "15\n"
     ]
    }
   ],
   "source": [
    "\n",
    "# Secondo modo: usiamo l'ambiente Permutation groups https://doc.sagemath.org/html/en/reference/groups/sage/groups/perm_gps/permgroup.html\n",
    "# Rendiamo GG un gruppo di permutazioni (in questo ambiente le permutazioni sono rappresentate da prodotti di cicli disgiunti) e usiamo la funzione subgroups()\n",
    "\n",
    "\n",
    "GG=G.permutation_group()  \n",
    "\n",
    "SGP=GG.subgroups()\n",
    "\n",
    "print(len(SGP))\n"
   ]
  },
  {
   "cell_type": "code",
   "execution_count": 15,
   "metadata": {
    "vscode": {
     "languageId": "sage"
    }
   },
   "outputs": [
    {
     "name": "stdout",
     "output_type": "stream",
     "text": [
      "15\n"
     ]
    }
   ],
   "source": [
    "# Per trovare un insieme minimale di generatori prendiamo i sottogruppi ottenuti con il primo metodo (potremmo usare .minimal_generating_set() dell'ambiente Permutation groups, ma mi dà errore). Definiamo prima una funzione che a un sottoinsieme X di G mi associa il sottogruppo generato da quel sottoinsieme. Poi partendo dalle cardinalità piu' basse cerchiamo un insieme di generatori per ogni sottogruppo. SGG è la lista delle coppie [sottogruppo, insieme minimale di generatori]. Nota: due insiemi minimali di generatori possono avere cardinalità diverse. Questo algoritmo ci dà un insieme minimale di generatori, la cui cardinalità è minimale tra tutti gli insiemi minimali di generatori. \n",
    "\n",
    "def subgenG(X):\n",
    "    u=0\n",
    "    Y=X\n",
    "    while u==0:\n",
    "        for s in X:\n",
    "            for t in X:\n",
    "                r=s+t\n",
    "                Y=Y+Set({r,-r})\n",
    "        if Y.cardinality()==X.cardinality():\n",
    "            u=1\n",
    "        X=Y\n",
    "    return X\n",
    "    \n",
    "SGG=[]\n",
    "\n",
    "for s in SG:\n",
    "    u=0\n",
    "    for i in range(G.cardinality()-1):\n",
    "        for x in Set(G).subsets(i+1):\n",
    "            if subgenG(x)==s:\n",
    "                SGG.append([s,x])\n",
    "                u=1\n",
    "                break\n",
    "            \n",
    "        if u==1:\n",
    "            break\n",
    "            \n",
    "print(len(SGG))"
   ]
  },
  {
   "cell_type": "code",
   "execution_count": 16,
   "metadata": {
    "vscode": {
     "languageId": "sage"
    }
   },
   "outputs": [
    {
     "name": "stdout",
     "output_type": "stream",
     "text": [
      "{(0, 1), (1, 0)}\n"
     ]
    }
   ],
   "source": [
    "# Vediamo chi è un insieme minimale di generatori per G.\n",
    "\n",
    "for g in SGG:\n",
    "    if g[0].cardinality()==G.cardinality():\n",
    "        print(g[1])"
   ]
  },
  {
   "cell_type": "code",
   "execution_count": 17,
   "metadata": {
    "vscode": {
     "languageId": "sage"
    }
   },
   "outputs": [
    {
     "name": "stdout",
     "output_type": "stream",
     "text": [
      "6\n"
     ]
    }
   ],
   "source": [
    "# Cerchiamo le classi di isomorfismo dei sottogruppi di G, usando la funzione is_isomorphic() dell'ambiene Permutation groups.\n",
    "\n",
    "H=[SGP[0]]\n",
    "\n",
    "for i in range(len(SGP)):\n",
    "    u=0\n",
    "    for j in range(len(H)):\n",
    "        if SGP[i].is_isomorphic(H[j]):\n",
    "            u=1\n",
    "            break\n",
    "    if u==0:\n",
    "        H.append(SGP[i])\n",
    "\n",
    "print(len(H))\n"
   ]
  },
  {
   "cell_type": "code",
   "execution_count": 18,
   "metadata": {
    "vscode": {
     "languageId": "sage"
    }
   },
   "outputs": [
    {
     "data": {
      "text/plain": [
       "False"
      ]
     },
     "execution_count": 18,
     "metadata": {},
     "output_type": "execute_result"
    }
   ],
   "source": [
    "# Usiamo la funzione is.cyclic() per vedere se G è ciclico.\n",
    "\n",
    "GG.is_cyclic()"
   ]
  },
  {
   "cell_type": "code",
   "execution_count": 19,
   "metadata": {
    "vscode": {
     "languageId": "sage"
    }
   },
   "outputs": [
    {
     "name": "stdout",
     "output_type": "stream",
     "text": [
      "10\n"
     ]
    }
   ],
   "source": [
    "# Troviamo tutti i sottogruppi ciclici di G.\n",
    "\n",
    "C=[]\n",
    "\n",
    "for i in range(len(SGP)):\n",
    "    if SGP[i].is_cyclic():\n",
    "        C.append(SGP[i])\n",
    "        \n",
    "print(len(C))"
   ]
  },
  {
   "cell_type": "code",
   "execution_count": 20,
   "metadata": {
    "vscode": {
     "languageId": "sage"
    }
   },
   "outputs": [
    {
     "name": "stdout",
     "output_type": "stream",
     "text": [
      "4 8\n",
      "4 2\n",
      "True True\n",
      "[(1,2,3,4)] [(1,2)]\n"
     ]
    }
   ],
   "source": [
    "# Il gruppo G è generato da {(1,0), (0,1)}. Il gruppo GG, nell'ambiente Permutation groups, è generato da {(1,2,3,4), (5,6,7,8)} (vederlo facendo stampare GG). Se (1,0) corrisponde a (1,2,3,4) e (0,1) corrisponde al ciclo (5,6,7,8), allora (1,2) = (1,0)+(0,1)+(0,1) corrisponde a (1,2,3,4)(5,6,7,8)(5,6,7,8) = (1,2,3,4)(5,7)(6,8), e (2,2)=(1,0)+(1,2) corrisponde a (1,2,3,4)(1,2,3,4)(5,7)(6,8)=(1,3)(2,4)(5,7)(6,8).\n",
    "\n",
    "\n",
    "H1 = PermutationGroup([[(1,2,3,4),(5,7),(6,8)]])  # sottogruppo generato da {(1,2)}\n",
    "H2 = PermutationGroup([[(1,2,3,4)],[(1,3),(2,4),(5,7),(6,8)]])   # sottogruppo generato da {(0,1), (2,2)}\n",
    "\n",
    "print(H1.cardinality(),H2.cardinality())\n",
    "\n",
    "GH1=GG.quotient(H1)\n",
    "GH2=GG.quotient(H2)\n",
    "\n",
    "print(GH1.cardinality(), GH2.cardinality())\n",
    "\n",
    "print(GH1.is_cyclic(), GH2.is_cyclic())    \n",
    "\n",
    "print(GH1.minimal_generating_set(), GH2.minimal_generating_set())\t\n"
   ]
  },
  {
   "cell_type": "code",
   "execution_count": 21,
   "metadata": {
    "vscode": {
     "languageId": "sage"
    }
   },
   "outputs": [
    {
     "data": {
      "image/png": "[encoded data removed]",
      "text/plain": [
       "Graphics object consisting of 25 graphics primitives"
      ]
     },
     "execution_count": 21,
     "metadata": {},
     "output_type": "execute_result"
    }
   ],
   "source": [
    "#Rappresentiamo con un diagramma di Hasse il poset dei sottogruppi di G.\n",
    "\n",
    "def ordine(u,v):\n",
    "        if u.intersection(v)==u:\n",
    "                return True\n",
    "        else:\n",
    "                return False\n",
    "\n",
    "def POSET(R):\n",
    "    elms=R\n",
    "    return Poset((elms, ordine))\n",
    "\n",
    "\n",
    "P=POSET(Set(SG))\n",
    "P.plot(label_elements=False, figsize=10)\t\n",
    "\n"
   ]
  },
  {
   "cell_type": "code",
   "execution_count": 22,
   "metadata": {
    "vscode": {
     "languageId": "sage"
    }
   },
   "outputs": [
    {
     "name": "stdout",
     "output_type": "stream",
     "text": [
      "Subgroup generated by [(2,4,3), (1,2)(3,4), (1,3)(2,4)] of (Permutation Group with generators [(3,4), (2,3), (1,2)]) {1, 2, 3, 4, 12} False\n"
     ]
    }
   ],
   "source": [
    "# Notare che per ogni cardinalità ammissibile per un sottogruppo di G, esiste un sottogruppo di quella cardinalità. Questo fatto non è sempre vero. Per i gruppi ciclici finiti, come abbiamo visto a lezione, è sempre vero. Piu' in generale, i gruppi abeliani finiti hanno questa proprietà, essendo prodotti diretti di gruppi ciclici finiti ( vedere il teorema di classificazione dei gruppi abeliani finiti https://en.wikipedia.org/wiki/Abelian_group#Classification ).\n",
    "\n",
    "# Cerchiamo un gruppo G tale che d è divisore della sua cardinalità ma G non ha un sottogruppo di cardinalità d. Nei gruppi simmetrici S2 e S3, come si può facilmente vedere, non possiamo trovarlo. Cerchiamolo in S4.\n",
    "\n",
    "S4=PermutationGroup([[(1,2)],[(2,3)],[(3,4)]])  # Gruppo delle permutazioni di 4 elementi (è generato da 3 trasposizioni semplici).\n",
    "S4.cardinality()   # Ha cardinalità 4! = 24\n",
    "\n",
    "U=S4.subgroups()  # Prendiamo tutti i suoi sottogruppi.\n",
    "\n",
    "for f in U:                      # Cerchiamo un sottogruppo di S4 che non abbia la proprietà sopra menzionata.\n",
    "    c=f.cardinality()\n",
    "    D=Set(divisors(c))\n",
    "    sf=f.subgroups()\n",
    "    B=Set()\n",
    "    for a in sf:\n",
    "        b=a.cardinality()\n",
    "        B=B+Set({b})\n",
    "    if B!=D:\n",
    "        print(f, B, f.is_abelian())\n",
    "        break\n",
    "\n",
    "# Troviamo un sottogruppo di cardinalità 12 i cui sottogruppi hanno cardinalità 1, 2, 4, 12. Quindi manca la cardinalità 6. Questo gruppo non è abeliano."
   ]
  }
 ],
 "metadata": {
  "kernelspec": {
   "display_name": "SageMath 9.5",
   "language": "sage",
   "name": "sagemath"
  },
  "language_info": {
   "codemirror_mode": {
    "name": "ipython",
    "version": 3
   },
   "file_extension": ".py",
   "mimetype": "text/x-python",
   "name": "python",
   "nbconvert_exporter": "python",
   "pygments_lexer": "ipython3",
   "version": "3.10.12"
  }
 },
 "nbformat": 4,
 "nbformat_minor": 2
}
